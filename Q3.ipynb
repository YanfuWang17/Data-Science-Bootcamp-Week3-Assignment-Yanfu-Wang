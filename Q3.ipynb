{
 "cells": [
  {
   "cell_type": "code",
   "execution_count": 13,
   "id": "5b4fadda",
   "metadata": {},
   "outputs": [],
   "source": [
    "import pandas as pd\n",
    "import matplotlib.pyplot as plt\n",
    "import seaborn as sns"
   ]
  },
  {
   "cell_type": "code",
   "execution_count": 14,
   "id": "e7d875c1",
   "metadata": {},
   "outputs": [],
   "source": [
    "df = pd.read_csv('https://data.cityofnewyork.us/api/views/6fi9-q3ta/rows.csv?accessType=DOWNLOAD')"
   ]
  },
  {
   "cell_type": "code",
   "execution_count": 15,
   "id": "cc9d5a63",
   "metadata": {},
   "outputs": [
    {
     "name": "stdout",
     "output_type": "stream",
     "text": [
      "           hour_beginning         location  Pedestrians  Towards Manhattan  \\\n",
      "0  04/30/2019 12:00:00 AM  Brooklyn Bridge            3                  3   \n",
      "1  12/31/2019 10:00:00 PM  Brooklyn Bridge           10                  9   \n",
      "2  12/31/2019 11:00:00 PM  Brooklyn Bridge            2                  0   \n",
      "3  12/31/2019 09:00:00 PM  Brooklyn Bridge           12                  0   \n",
      "4  04/01/2019 03:00:00 AM  Brooklyn Bridge            1                  0   \n",
      "\n",
      "   Towards Brooklyn weather_summary  temperature  precipitation        lat  \\\n",
      "0                 0             NaN          NaN            NaN  40.708164   \n",
      "1                 1          cloudy         42.0         0.0005  40.708164   \n",
      "2                 2          cloudy         42.0         0.0004  40.708164   \n",
      "3                12          cloudy         42.0         0.0036  40.708164   \n",
      "4                 1     clear-night         36.0         0.0000  40.708164   \n",
      "\n",
      "        long events                              Location1  \n",
      "0 -73.999509    NaN  (40.7081639691088, -73.9995087014816)  \n",
      "1 -73.999509    NaN  (40.7081639691088, -73.9995087014816)  \n",
      "2 -73.999509    NaN  (40.7081639691088, -73.9995087014816)  \n",
      "3 -73.999509    NaN  (40.7081639691088, -73.9995087014816)  \n",
      "4 -73.999509    NaN  (40.7081639691088, -73.9995087014816)  \n",
      "(16057, 12)\n"
     ]
    }
   ],
   "source": [
    "print(df.head())\n",
    "print(df.shape)"
   ]
  },
  {
   "cell_type": "code",
   "execution_count": 22,
   "id": "475a9119",
   "metadata": {},
   "outputs": [],
   "source": [
    "def categorize_time(time):\n",
    "    time = str(time)\n",
    "    if time[12:13].isnumeric():\n",
    "        hour = int(time[12:13])\n",
    "    if time[13:14].isnumeric():\n",
    "        hour = int(time[12:14])   \n",
    "    if time[-2:] == \"AM\":\n",
    "        if 6 <= hour < 12:\n",
    "            return 'morning'\n",
    "        else:\n",
    "            return 'night'\n",
    "    else:\n",
    "        if 6 <= hour < 12:\n",
    "            return 'evening'\n",
    "        else:\n",
    "            return 'afternoon'"
   ]
  },
  {
   "cell_type": "code",
   "execution_count": 23,
   "id": "b098641a",
   "metadata": {},
   "outputs": [],
   "source": [
    "df['time_of_day'] = df['hour_beginning'].apply(categorize_time)"
   ]
  },
  {
   "cell_type": "code",
   "execution_count": 24,
   "id": "cef387fe",
   "metadata": {},
   "outputs": [
    {
     "name": "stdout",
     "output_type": "stream",
     "text": [
      "           hour_beginning         location  Pedestrians  Towards Manhattan  \\\n",
      "0  04/30/2019 12:00:00 AM  Brooklyn Bridge            3                  3   \n",
      "1  12/31/2019 10:00:00 PM  Brooklyn Bridge           10                  9   \n",
      "2  12/31/2019 11:00:00 PM  Brooklyn Bridge            2                  0   \n",
      "3  12/31/2019 09:00:00 PM  Brooklyn Bridge           12                  0   \n",
      "4  04/01/2019 03:00:00 AM  Brooklyn Bridge            1                  0   \n",
      "\n",
      "   Towards Brooklyn weather_summary  temperature  precipitation        lat  \\\n",
      "0                 0             NaN          NaN            NaN  40.708164   \n",
      "1                 1          cloudy         42.0         0.0005  40.708164   \n",
      "2                 2          cloudy         42.0         0.0004  40.708164   \n",
      "3                12          cloudy         42.0         0.0036  40.708164   \n",
      "4                 1     clear-night         36.0         0.0000  40.708164   \n",
      "\n",
      "        long events                              Location1 time_of_day  \n",
      "0 -73.999509    NaN  (40.7081639691088, -73.9995087014816)       night  \n",
      "1 -73.999509    NaN  (40.7081639691088, -73.9995087014816)   afternoon  \n",
      "2 -73.999509    NaN  (40.7081639691088, -73.9995087014816)   afternoon  \n",
      "3 -73.999509    NaN  (40.7081639691088, -73.9995087014816)     evening  \n",
      "4 -73.999509    NaN  (40.7081639691088, -73.9995087014816)       night  \n",
      "(16057, 13)\n"
     ]
    }
   ],
   "source": [
    "print(df.head())\n",
    "print(df.shape)"
   ]
  },
  {
   "cell_type": "code",
   "execution_count": 28,
   "id": "8a3bf2c1",
   "metadata": {},
   "outputs": [
    {
     "data": {
      "image/png": "[encoded data removed]",
      "text/plain": [
       "<Figure size 700x500 with 1 Axes>"
      ]
     },
     "metadata": {},
     "output_type": "display_data"
    }
   ],
   "source": [
    "day_counts = df.groupby(df['time_of_day'])['Pedestrians'].sum()\n",
    "plt.figure(figsize=(7, 5))\n",
    "day_counts.plot(kind='bar', color='orange')\n",
    "plt.title('Total Pedestrian Counts In Weekdays')\n",
    "plt.xlabel('Time of Day')\n",
    "plt.ylabel('Pedestrian Count')\n",
    "plt.grid(axis='y')  #grid created alone y axis\n",
    "plt.tight_layout()\n",
    "plt.show()"
   ]
  },
  {
   "cell_type": "code",
   "execution_count": null,
   "id": "dc41d4bf",
   "metadata": {},
   "outputs": [],
   "source": []
  }
 ],
 "metadata": {
  "kernelspec": {
   "display_name": "Python 3 (ipykernel)",
   "language": "python",
   "name": "python3"
  },
  "language_info": {
   "codemirror_mode": {
    "name": "ipython",
    "version": 3
   },
   "file_extension": ".py",
   "mimetype": "text/x-python",
   "name": "python",
   "nbconvert_exporter": "python",
   "pygments_lexer": "ipython3",
   "version": "3.9.13"
  }
 },
 "nbformat": 4,
 "nbformat_minor": 5
}
